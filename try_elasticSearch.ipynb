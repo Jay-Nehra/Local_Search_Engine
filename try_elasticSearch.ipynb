{
 "cells": [
  {
   "cell_type": "markdown",
   "metadata": {},
   "source": [
    "# Elasticsearch: Basic Operations\n",
    "\n",
    "In this notebook, I'll explore how to interact with Elasticsearch. I will cover:\n",
    "- Setting up the connection to an Elasticsearch instance running locally.\n",
    "- Creating an index and defining mappings.\n",
    "- Indexing documents individually and in bulk.\n",
    "- Performing basic searches and aggregations.\n",
    "- Updating and deleting documents.\n"
   ]
  },
  {
   "cell_type": "markdown",
   "metadata": {},
   "source": [
    "### 1. Setting Up the Connection\n",
    "\n",
    "Start by connecting to the Elasticsearch instance running on `localhost:9200`. This connection will be used for all subsequent operations.\n"
   ]
  },
  {
   "cell_type": "code",
   "execution_count": 4,
   "metadata": {},
   "outputs": [
    {
     "name": "stdout",
     "output_type": "stream",
     "text": [
      "Connected to Elasticsearch\n"
     ]
    }
   ],
   "source": [
    "from elasticsearch import Elasticsearch\n",
    "\n",
    "# Initialize the Elasticsearch client\n",
    "db_client = Elasticsearch([{'host': 'localhost', 'port': 9200, 'scheme': 'http'}])\n",
    "db_client = Elasticsearch(\"http://localhost:9200\")\n",
    "\n",
    "# Verify the connection by pinging the Elasticsearch server\n",
    "if db_client.ping():\n",
    "    print(\"Connected to Elasticsearch\")\n",
    "else:\n",
    "    print(\"Could not connect to Elasticsearch\")\n"
   ]
  },
  {
   "cell_type": "code",
   "execution_count": 5,
   "metadata": {},
   "outputs": [
    {
     "name": "stdout",
     "output_type": "stream",
     "text": [
      "{\n",
      "    \"name\": \"53454524eded\",\n",
      "    \"cluster_name\": \"docker-cluster\",\n",
      "    \"cluster_uuid\": \"YKSJfR6lQ2GNjB4UiyoJMQ\",\n",
      "    \"version\": {\n",
      "        \"number\": \"8.4.3\",\n",
      "        \"build_flavor\": \"default\",\n",
      "        \"build_type\": \"docker\",\n",
      "        \"build_hash\": \"42f05b9372a9a4a470db3b52817899b99a76ee73\",\n",
      "        \"build_date\": \"2022-10-04T07:17:24.662462378Z\",\n",
      "        \"build_snapshot\": false,\n",
      "        \"lucene_version\": \"9.3.0\",\n",
      "        \"minimum_wire_compatibility_version\": \"7.17.0\",\n",
      "        \"minimum_index_compatibility_version\": \"7.0.0\"\n",
      "    },\n",
      "    \"tagline\": \"You Know, for Search\"\n",
      "}\n"
     ]
    }
   ],
   "source": [
    "import json\n",
    "res = db_client.info()\n",
    "res_dict = res.body if hasattr(res, 'body') else dict(res)\n",
    "print(json.dumps(res_dict, indent=4))"
   ]
  },
  {
   "cell_type": "markdown",
   "metadata": {},
   "source": [
    "### 2. Creating an Index with Mappings\n",
    "\n",
    "An index in Elasticsearch is like a database in a RDBMS. Here, i'll create an index called `doc_index` and define a simple mapping that specifies the data types for each field.\n"
   ]
  },
  {
   "cell_type": "code",
   "execution_count": 13,
   "metadata": {},
   "outputs": [],
   "source": [
    "index_name = \"doc_index\""
   ]
  },
  {
   "cell_type": "code",
   "execution_count": 6,
   "metadata": {},
   "outputs": [],
   "source": [
    "# Define the settings and mappings for the index\n",
    "index_body = {\n",
    "    \"settings\": {\n",
    "        \"number_of_shards\": 1,\n",
    "        \"number_of_replicas\": 0\n",
    "    },\n",
    "    \"mappings\": {\n",
    "        \"properties\": {\n",
    "            \"title\": {\"type\": \"text\"},\n",
    "            \"content\": {\"type\": \"text\"},\n",
    "            \"timestamp\": {\"type\": \"date\"}\n",
    "        }\n",
    "    }\n",
    "}\n"
   ]
  },
  {
   "cell_type": "code",
   "execution_count": 7,
   "metadata": {},
   "outputs": [
    {
     "name": "stdout",
     "output_type": "stream",
     "text": [
      "Index 'doc_index' already exists\n"
     ]
    }
   ],
   "source": [
    "# Create the index\n",
    "if not db_client.indices.exists(index=index_name):\n",
    "    db_client.indices.create(index=index_name, body=index_body)\n",
    "    print(f\"Index '{index_name}' created successfully\")\n",
    "else:\n",
    "    print(f\"Index '{index_name}' already exists\")"
   ]
  },
  {
   "cell_type": "markdown",
   "metadata": {},
   "source": [
    "### 3. Indexing a Single Document\n",
    "\n",
    "In this step, we will index (insert) a single document into the `doc_index` index. Documents in Elasticsearch are stored in JSON format.\n"
   ]
  },
  {
   "cell_type": "code",
   "execution_count": 8,
   "metadata": {},
   "outputs": [],
   "source": [
    "doc = {\n",
    "    'title': 'Introduction to Elasticsearch',\n",
    "    'content': 'Elasticsearch is a powerful search engine based on the Lucene library.',\n",
    "    'timestamp': '2024-08-25T13:00:00'\n",
    "}\n"
   ]
  },
  {
   "cell_type": "code",
   "execution_count": 9,
   "metadata": {},
   "outputs": [
    {
     "name": "stdout",
     "output_type": "stream",
     "text": [
      "Document indexed: updated\n"
     ]
    }
   ],
   "source": [
    "# Index the document with an index ID\n",
    "res = db_client.index(index=index_name, id=1, document=doc)\n",
    "print(\"Document indexed:\", res['result'])"
   ]
  },
  {
   "cell_type": "markdown",
   "metadata": {},
   "source": [
    "### 4. Bulk Indexing Multiple Documents\n",
    "\n",
    "Indexing documents one at a time can be inefficient for large datasets. \n",
    "\n",
    "> Elasticsearch provides a bulk API that allows us to index multiple documents in a single request.\n"
   ]
  },
  {
   "cell_type": "code",
   "execution_count": 10,
   "metadata": {},
   "outputs": [],
   "source": [
    "# Multiple documents to be indexed in bulk\n",
    "actions = [\n",
    "    {\n",
    "        \"_index\": index_name,\n",
    "        \"_id\": 2,\n",
    "        \"_source\": {\n",
    "            \"title\": \"ABC\",\n",
    "            \"content\": \"Bla bla bla bla.\",\n",
    "            \"timestamp\": \"2024-08-25T14:00:00\"\n",
    "        }\n",
    "    },\n",
    "    {\n",
    "        \"_index\": index_name,\n",
    "        \"_id\": 3,\n",
    "        \"_source\": {\n",
    "            \"title\": \"DEF\",\n",
    "            \"content\": \"omg omg\",\n",
    "            \"timestamp\": \"2024-08-25T15:00:00\"\n",
    "        }\n",
    "    }\n",
    "]\n"
   ]
  },
  {
   "cell_type": "code",
   "execution_count": 11,
   "metadata": {},
   "outputs": [
    {
     "name": "stdout",
     "output_type": "stream",
     "text": [
      "Bulk indexing completed: 2 documents indexed.\n"
     ]
    }
   ],
   "source": [
    "from elasticsearch.helpers import bulk\n",
    "\n",
    "res = bulk(db_client, actions)\n",
    "print(f\"Bulk indexing completed: {res[0]} documents indexed.\")\n"
   ]
  },
  {
   "cell_type": "markdown",
   "metadata": {},
   "source": [
    "### 5. List all of the indexed documents \n",
    "\n",
    "we can list the documents in an Elasticsearch index by using the search API with a match-all query. \n",
    "    > This query retrieves all documents in the index. \n",
    "    > we can limit the number of documents returned and use pagination to navigate through larger datasets.\n",
    "\n",
    "General Strategy should be: \n",
    "> Use a match-all query to retrieve and list documents in the index.\n",
    "\n",
    "Pagination: \n",
    "> Implement pagination for larger datasets to retrieve documents in batches."
   ]
  },
  {
   "cell_type": "code",
   "execution_count": 12,
   "metadata": {},
   "outputs": [
    {
     "name": "stdout",
     "output_type": "stream",
     "text": [
      "Total documents found: 3\n",
      "{\n",
      "    \"title\": \"Introduction to Elasticsearch\",\n",
      "    \"content\": \"Elasticsearch is a powerful search engine based on the Lucene library.\",\n",
      "    \"timestamp\": \"2024-08-25T13:00:00\"\n",
      "}\n",
      "{\n",
      "    \"title\": \"ABC\",\n",
      "    \"content\": \"Bla bla bla bla.\",\n",
      "    \"timestamp\": \"2024-08-25T14:00:00\"\n",
      "}\n",
      "{\n",
      "    \"title\": \"DEF\",\n",
      "    \"content\": \"omg omg\",\n",
      "    \"timestamp\": \"2024-08-25T15:00:00\"\n",
      "}\n"
     ]
    }
   ],
   "source": [
    "# List all documents in the index with a match-all query\n",
    "list_query = {\n",
    "    \"query\": {\n",
    "        \"match_all\": {}\n",
    "    }\n",
    "}\n",
    "\n",
    "# Execute the search to list documents\n",
    "res = db_client.search(index=index_name, body=list_query)\n",
    "print(f\"Total documents found: {res['hits']['total']['value']}\")\n",
    "for hit in res['hits']['hits']:\n",
    "    print(json.dumps(hit['_source'], indent=4))\n"
   ]
  },
  {
   "cell_type": "code",
   "execution_count": 20,
   "metadata": {},
   "outputs": [],
   "source": [
    "# Pagination Function to paginate through documents in the index\n",
    "def paginate_through_documents(index_name, page_size=100):\n",
    "    page = 0\n",
    "    while True:\n",
    "        query_body = {\n",
    "            \"query\": {\n",
    "                \"match_all\": {}\n",
    "            },\n",
    "            \"size\": page_size,\n",
    "            \"from\": page * page_size\n",
    "        }\n",
    "        res = db_client.search(index=index_name, body=query_body)\n",
    "        hits = res['hits']['hits']\n",
    "        if not hits:\n",
    "            break\n",
    "        for hit in hits:\n",
    "            print(json.dumps(hit['_source'], indent=4))\n",
    "        page += 1\n"
   ]
  },
  {
   "cell_type": "code",
   "execution_count": 21,
   "metadata": {},
   "outputs": [
    {
     "name": "stdout",
     "output_type": "stream",
     "text": [
      "{\n",
      "    \"title\": \"Introduction to Elasticsearch\",\n",
      "    \"content\": \"Elasticsearch is a powerful search engine based on the Lucene library.\",\n",
      "    \"timestamp\": \"2024-08-25T13:00:00\"\n",
      "}\n",
      "{\n",
      "    \"title\": \"ABC\",\n",
      "    \"content\": \"Bla bla bla bla.\",\n",
      "    \"timestamp\": \"2024-08-25T14:00:00\"\n",
      "}\n",
      "{\n",
      "    \"title\": \"DEF\",\n",
      "    \"content\": \"omg omg\",\n",
      "    \"timestamp\": \"2024-08-25T15:00:00\"\n",
      "}\n"
     ]
    }
   ],
   "source": [
    "paginate_through_documents(index_name)"
   ]
  },
  {
   "cell_type": "markdown",
   "metadata": {},
   "source": [
    "---"
   ]
  },
  {
   "cell_type": "markdown",
   "metadata": {},
   "source": [
    "## Working with the data from teh documents from the knowledge base"
   ]
  },
  {
   "cell_type": "markdown",
   "metadata": {},
   "source": [
    "### 6. Loading Knowledge Base Documents\n",
    "\n",
    "Let's load the JSON documents from the `Knowledge_Base` directory. These documents will be indexed into Elasticsearch.\n"
   ]
  },
  {
   "cell_type": "code",
   "execution_count": 24,
   "metadata": {},
   "outputs": [],
   "source": [
    "import os"
   ]
  },
  {
   "cell_type": "code",
   "execution_count": 64,
   "metadata": {},
   "outputs": [],
   "source": [
    "knowledge_base_dir = 'Knowledge_Base'\n",
    "\n",
    "def load_knowledge_base(directory):\n",
    "    documents = []\n",
    "    filename = 'parsed_chat.json'\n",
    "    with open(os.path.join(directory, filename), 'r', encoding='utf-8') as file:\n",
    "        documents.append(json.load(file))\n",
    "    return documents"
   ]
  },
  {
   "cell_type": "code",
   "execution_count": 65,
   "metadata": {},
   "outputs": [
    {
     "name": "stdout",
     "output_type": "stream",
     "text": [
      "Loaded 1 documents from the knowledge base.\n"
     ]
    }
   ],
   "source": [
    "knowledge_base_docs = load_knowledge_base(knowledge_base_dir)\n",
    "print(f\"Loaded {len(knowledge_base_docs)} documents from the knowledge base.\")\n"
   ]
  },
  {
   "cell_type": "markdown",
   "metadata": {},
   "source": [
    "### 7. Creating an Index for the Knowledge Base\n",
    "\n",
    "Next, we'll create an index in Elasticsearch where the knowledge base documents will be stored. We'll define mappings to handle different fields like `question`, `answer`, and `timestamp`.\n"
   ]
  },
  {
   "cell_type": "code",
   "execution_count": 78,
   "metadata": {},
   "outputs": [
    {
     "name": "stdout",
     "output_type": "stream",
     "text": [
      "Index 'index_parsed_chat' already exists.\n"
     ]
    }
   ],
   "source": [
    "kb_index = 'index_parsed_chat'\n",
    "\n",
    "kb_index_settings = {\n",
    "    \"settings\": {\n",
    "        \"number_of_shards\": 1,\n",
    "        \"number_of_replicas\": 0\n",
    "    }\n",
    "}\n",
    "\n",
    "if not db_client.indices.exists(index=kb_index):\n",
    "    db_client.indices.create(index=kb_index, body=kb_index_settings)\n",
    "    print(f\"Index '{kb_index}' created successfully.\")\n",
    "else:\n",
    "    print(f\"Index '{kb_index}' already exists.\")\n",
    "\n"
   ]
  },
  {
   "cell_type": "markdown",
   "metadata": {},
   "source": [
    "### 8. Indexing the Knowledge Base Documents\n",
    "\n",
    "We'll now index the loaded documents into the newly created index. We'll use the bulk API for efficient indexing.\n"
   ]
  },
  {
   "cell_type": "code",
   "execution_count": 86,
   "metadata": {},
   "outputs": [],
   "source": [
    "def prepare_bulk_indexing(docs, index_name):\n",
    "    actions = []\n",
    "    for i, doc_list in enumerate(docs):\n",
    "        # Extract the first dictionary from each list\n",
    "        if isinstance(doc_list, list) and doc_list:\n",
    "            doc = doc_list[0]\n",
    "            \n",
    "            action = {\n",
    "                \"_index\": index_name,\n",
    "                \"_id\": i + 1,  # Use the document's position as the ID\n",
    "                \"_source\": doc\n",
    "            }\n",
    "            actions.append(action)\n",
    "    return actions\n"
   ]
  },
  {
   "cell_type": "code",
   "execution_count": 87,
   "metadata": {},
   "outputs": [],
   "source": [
    "# Prepare the documents for bulk indexing\n",
    "bulk_actions = prepare_bulk_indexing(knowledge_base_docs, kb_index)\n"
   ]
  },
  {
   "cell_type": "code",
   "execution_count": 88,
   "metadata": {},
   "outputs": [
    {
     "name": "stdout",
     "output_type": "stream",
     "text": [
      "Bulk indexing completed: 1 documents indexed.\n"
     ]
    }
   ],
   "source": [
    "res = bulk(db_client, bulk_actions)\n",
    "print(f\"Bulk indexing completed: {res[0]} documents indexed.\")"
   ]
  },
  {
   "cell_type": "markdown",
   "metadata": {},
   "source": [
    "### 9. Searching the Knowledge Base\n",
    "\n",
    "Now that the documents are indexed, you can perform searches to retrieve relevant documents based on queries. \n",
    "\n",
    "\n",
    "we can start with a basic search that looks for a keyword in the question or answer fields.\n",
    "\n"
   ]
  },
  {
   "cell_type": "code",
   "execution_count": 92,
   "metadata": {},
   "outputs": [],
   "source": [
    "search_query = {\n",
    "    \"query\": {\n",
    "        \"multi_match\": {\n",
    "            \"query\": \"where can i find the notes?\", \n",
    "            \"fields\": [\"question\", \"answer\"]  \n",
    "        }\n",
    "    }\n",
    "}\n"
   ]
  },
  {
   "cell_type": "code",
   "execution_count": 93,
   "metadata": {},
   "outputs": [
    {
     "name": "stdout",
     "output_type": "stream",
     "text": [
      "Search returned 1 results:\n",
      "{\n",
      "    \"course\": \"GCS Certification\",\n",
      "    \"day\": \"2\",\n",
      "    \"question\": \"Yesterday I'd completed 1st lab i.e. Exploring a BigQuery a puvlic dataset. without any problem. But the 2nd lab is lot of confusing. There is a mismatch between on screen instructions and actual lab. Some options are missing which are in Lab but not in instructions.\",\n",
      "    \"asked_by\": \"Yogeshwar Dayal Gaju\",\n",
      "    \"answer\": \"Hi, thanks for your feedback. Could you please share what part was the issue? The cloud industry is evolving so quickly that changes are often not reflected in the manual.\",\n",
      "    \"answered_by\": \"00 Hwan-Tae Kim\"\n",
      "}\n"
     ]
    }
   ],
   "source": [
    "\n",
    "res = db_client.search(index=kb_index, body=search_query)\n",
    "print(f\"Search returned {res['hits']['total']['value']} results:\")\n",
    "\n",
    "for hit in res['hits']['hits']:\n",
    "    print(json.dumps(hit['_source'], indent=4))\n"
   ]
  },
  {
   "cell_type": "markdown",
   "metadata": {},
   "source": [
    "### 10. Filtering Search Results\n",
    "You can refine your search results by applying filters. "
   ]
  },
  {
   "cell_type": "code",
   "execution_count": 100,
   "metadata": {},
   "outputs": [],
   "source": [
    "search_query_with_filter = {\n",
    "    \"query\": {\n",
    "        \"bool\": {\n",
    "            \"must\": {\n",
    "                \"multi_match\": {\n",
    "                    \"query\": \"how do i access the labs\",  \n",
    "                    \"fields\": [\"question\", \"answer\"]\n",
    "                }\n",
    "            },\n",
    "            \"filter\": [\n",
    "                {\"term\": {\"course\": \"GCS Certification\"}} \n",
    "            ]\n",
    "        }\n",
    "    }\n",
    "}\n",
    "\n"
   ]
  },
  {
   "cell_type": "code",
   "execution_count": 101,
   "metadata": {},
   "outputs": [
    {
     "name": "stdout",
     "output_type": "stream",
     "text": [
      "Filtered search returned 1 results:\n",
      "{\n",
      "    \"course\": \"GCS Certification\",\n",
      "    \"day\": \"2\",\n",
      "    \"question\": \"Yesterday I'd completed 1st lab i.e. Exploring a BigQuery a puvlic dataset. without any problem. But the 2nd lab is lot of confusing. There is a mismatch between on screen instructions and actual lab. Some options are missing which are in Lab but not in instructions.\",\n",
      "    \"asked_by\": \"Yogeshwar Dayal Gaju\",\n",
      "    \"answer\": \"Hi, thanks for your feedback. Could you please share what part was the issue? The cloud industry is evolving so quickly that changes are often not reflected in the manual.\",\n",
      "    \"answered_by\": \"00 Hwan-Tae Kim\"\n",
      "}\n"
     ]
    }
   ],
   "source": [
    "res = db_client.search(index=kb_index, body=search_query_with_filter)\n",
    "print(f\"Filtered search returned {res['hits']['total']['value']} results:\")\n",
    "\n",
    "for hit in res['hits']['hits']:\n",
    "    print(json.dumps(hit['_source'], indent=4))"
   ]
  },
  {
   "cell_type": "markdown",
   "metadata": {},
   "source": [
    "### 111. List All Indexes\n",
    "To list all indexes in the Elasticsearch database, you can use the cat.indices API."
   ]
  },
  {
   "cell_type": "code",
   "execution_count": 106,
   "metadata": {},
   "outputs": [
    {
     "name": "stdout",
     "output_type": "stream",
     "text": [
      "All Indexes:\n",
      "Index Name: parsed_chat, Document Count: 0, Size: 225b\n",
      "Index Name: index_parsed_chat, Document Count: 1, Size: 9.9kb\n",
      "Index Name: doc_index, Document Count: 3, Size: 4.3kb\n",
      "Index Name: parsed_chat_index, Document Count: 329, Size: 265.7kb\n",
      "Index Name: faq_documents_index, Document Count: 0, Size: 225b\n"
     ]
    }
   ],
   "source": [
    "# List all indexes in the Elasticsearch database\n",
    "all_indexes = db_client.cat.indices(format=\"json\")\n",
    "print(\"All Indexes:\")\n",
    "for index in all_indexes:\n",
    "    print(f\"Index Name: {index['index']}, Document Count: {index['docs.count']}, Size: {index['store.size']}\")\n"
   ]
  },
  {
   "cell_type": "code",
   "execution_count": 105,
   "metadata": {},
   "outputs": [
    {
     "name": "stdout",
     "output_type": "stream",
     "text": [
      "All Indexes:\n",
      "Index Name: parsed_chat, Document Count: 0, Size: 225b\n",
      "Mappings:\n",
      "{\n",
      "    \"parsed_chat\": {\n",
      "        \"mappings\": {\n",
      "            \"properties\": {\n",
      "                \"answer\": {\n",
      "                    \"type\": \"keyword\"\n",
      "                },\n",
      "                \"course\": {\n",
      "                    \"type\": \"text\"\n",
      "                },\n",
      "                \"day\": {\n",
      "                    \"type\": \"keyword\"\n",
      "                },\n",
      "                \"question\": {\n",
      "                    \"type\": \"text\"\n",
      "                }\n",
      "            }\n",
      "        }\n",
      "    }\n",
      "}\n",
      "Settings:\n",
      "{\n",
      "    \"parsed_chat\": {\n",
      "        \"settings\": {\n",
      "            \"index\": {\n",
      "                \"routing\": {\n",
      "                    \"allocation\": {\n",
      "                        \"include\": {\n",
      "                            \"_tier_preference\": \"data_content\"\n",
      "                        }\n",
      "                    }\n",
      "                },\n",
      "                \"number_of_shards\": \"1\",\n",
      "                \"provided_name\": \"parsed_chat\",\n",
      "                \"creation_date\": \"1724576547599\",\n",
      "                \"number_of_replicas\": \"0\",\n",
      "                \"uuid\": \"r9QbjJsSRiyNQVJTZIgpKg\",\n",
      "                \"version\": {\n",
      "                    \"created\": \"8040399\"\n",
      "                }\n",
      "            }\n",
      "        }\n",
      "    }\n",
      "}\n",
      "\n",
      "================================================================================\n",
      "\n",
      "Index Name: index_parsed_chat, Document Count: 1, Size: 9.9kb\n",
      "Mappings:\n",
      "{\n",
      "    \"index_parsed_chat\": {\n",
      "        \"mappings\": {\n",
      "            \"properties\": {\n",
      "                \"answer\": {\n",
      "                    \"type\": \"keyword\"\n",
      "                },\n",
      "                \"answered_by\": {\n",
      "                    \"type\": \"text\",\n",
      "                    \"fields\": {\n",
      "                        \"keyword\": {\n",
      "                            \"type\": \"keyword\",\n",
      "                            \"ignore_above\": 256\n",
      "                        }\n",
      "                    }\n",
      "                },\n",
      "                \"asked_by\": {\n",
      "                    \"type\": \"text\",\n",
      "                    \"fields\": {\n",
      "                        \"keyword\": {\n",
      "                            \"type\": \"keyword\",\n",
      "                            \"ignore_above\": 256\n",
      "                        }\n",
      "                    }\n",
      "                },\n",
      "                \"course\": {\n",
      "                    \"type\": \"text\"\n",
      "                },\n",
      "                \"day\": {\n",
      "                    \"type\": \"keyword\"\n",
      "                },\n",
      "                \"question\": {\n",
      "                    \"type\": \"text\"\n",
      "                },\n",
      "                \"timestamp\": {\n",
      "                    \"type\": \"date\"\n",
      "                }\n",
      "            }\n",
      "        }\n",
      "    }\n",
      "}\n",
      "Settings:\n",
      "{\n",
      "    \"index_parsed_chat\": {\n",
      "        \"settings\": {\n",
      "            \"index\": {\n",
      "                \"routing\": {\n",
      "                    \"allocation\": {\n",
      "                        \"include\": {\n",
      "                            \"_tier_preference\": \"data_content\"\n",
      "                        }\n",
      "                    }\n",
      "                },\n",
      "                \"number_of_shards\": \"1\",\n",
      "                \"provided_name\": \"index_parsed_chat\",\n",
      "                \"creation_date\": \"1724576460218\",\n",
      "                \"number_of_replicas\": \"0\",\n",
      "                \"uuid\": \"hNgQwOKcQfy_NCtvnM-C4w\",\n",
      "                \"version\": {\n",
      "                    \"created\": \"8040399\"\n",
      "                }\n",
      "            }\n",
      "        }\n",
      "    }\n",
      "}\n",
      "\n",
      "================================================================================\n",
      "\n",
      "Index Name: doc_index, Document Count: 3, Size: 4.3kb\n",
      "Mappings:\n",
      "{\n",
      "    \"doc_index\": {\n",
      "        \"mappings\": {\n",
      "            \"properties\": {\n",
      "                \"content\": {\n",
      "                    \"type\": \"text\"\n",
      "                },\n",
      "                \"timestamp\": {\n",
      "                    \"type\": \"date\"\n",
      "                },\n",
      "                \"title\": {\n",
      "                    \"type\": \"text\"\n",
      "                }\n",
      "            }\n",
      "        }\n",
      "    }\n",
      "}\n",
      "Settings:\n",
      "{\n",
      "    \"doc_index\": {\n",
      "        \"settings\": {\n",
      "            \"index\": {\n",
      "                \"routing\": {\n",
      "                    \"allocation\": {\n",
      "                        \"include\": {\n",
      "                            \"_tier_preference\": \"data_content\"\n",
      "                        }\n",
      "                    }\n",
      "                },\n",
      "                \"number_of_shards\": \"1\",\n",
      "                \"provided_name\": \"doc_index\",\n",
      "                \"creation_date\": \"1724573117105\",\n",
      "                \"number_of_replicas\": \"0\",\n",
      "                \"uuid\": \"_6pWZbeyTkiWMz8_TzBgdA\",\n",
      "                \"version\": {\n",
      "                    \"created\": \"8040399\"\n",
      "                }\n",
      "            }\n",
      "        }\n",
      "    }\n",
      "}\n",
      "\n",
      "================================================================================\n",
      "\n",
      "Index Name: parsed_chat_index, Document Count: 329, Size: 265.7kb\n",
      "Mappings:\n",
      "{\n",
      "    \"parsed_chat_index\": {\n",
      "        \"mappings\": {\n",
      "            \"properties\": {\n",
      "                \"answer\": {\n",
      "                    \"type\": \"text\",\n",
      "                    \"fields\": {\n",
      "                        \"keyword\": {\n",
      "                            \"type\": \"keyword\",\n",
      "                            \"ignore_above\": 256\n",
      "                        }\n",
      "                    }\n",
      "                },\n",
      "                \"answered_by\": {\n",
      "                    \"type\": \"text\",\n",
      "                    \"fields\": {\n",
      "                        \"keyword\": {\n",
      "                            \"type\": \"keyword\",\n",
      "                            \"ignore_above\": 256\n",
      "                        }\n",
      "                    }\n",
      "                },\n",
      "                \"asked_by\": {\n",
      "                    \"type\": \"text\",\n",
      "                    \"fields\": {\n",
      "                        \"keyword\": {\n",
      "                            \"type\": \"keyword\",\n",
      "                            \"ignore_above\": 256\n",
      "                        }\n",
      "                    }\n",
      "                },\n",
      "                \"course\": {\n",
      "                    \"type\": \"text\",\n",
      "                    \"fields\": {\n",
      "                        \"keyword\": {\n",
      "                            \"type\": \"keyword\",\n",
      "                            \"ignore_above\": 256\n",
      "                        }\n",
      "                    }\n",
      "                },\n",
      "                \"day\": {\n",
      "                    \"type\": \"text\",\n",
      "                    \"fields\": {\n",
      "                        \"keyword\": {\n",
      "                            \"type\": \"keyword\",\n",
      "                            \"ignore_above\": 256\n",
      "                        }\n",
      "                    }\n",
      "                },\n",
      "                \"question\": {\n",
      "                    \"type\": \"text\",\n",
      "                    \"fields\": {\n",
      "                        \"keyword\": {\n",
      "                            \"type\": \"keyword\",\n",
      "                            \"ignore_above\": 256\n",
      "                        }\n",
      "                    }\n",
      "                }\n",
      "            }\n",
      "        }\n",
      "    }\n",
      "}\n",
      "Settings:\n",
      "{\n",
      "    \"parsed_chat_index\": {\n",
      "        \"settings\": {\n",
      "            \"index\": {\n",
      "                \"routing\": {\n",
      "                    \"allocation\": {\n",
      "                        \"include\": {\n",
      "                            \"_tier_preference\": \"data_content\"\n",
      "                        }\n",
      "                    }\n",
      "                },\n",
      "                \"number_of_shards\": \"1\",\n",
      "                \"provided_name\": \"parsed_chat_index\",\n",
      "                \"creation_date\": \"1724564271321\",\n",
      "                \"number_of_replicas\": \"0\",\n",
      "                \"uuid\": \"82KtZdxYRIOM5c2CCtDUjg\",\n",
      "                \"version\": {\n",
      "                    \"created\": \"8040399\"\n",
      "                }\n",
      "            }\n",
      "        }\n",
      "    }\n",
      "}\n",
      "\n",
      "================================================================================\n",
      "\n",
      "Index Name: faq_documents_index, Document Count: 0, Size: 225b\n",
      "Mappings:\n",
      "{\n",
      "    \"faq_documents_index\": {\n",
      "        \"mappings\": {\n",
      "            \"properties\": {\n",
      "                \"answer\": {\n",
      "                    \"type\": \"text\"\n",
      "                },\n",
      "                \"course\": {\n",
      "                    \"type\": \"keyword\"\n",
      "                },\n",
      "                \"question\": {\n",
      "                    \"type\": \"text\"\n",
      "                },\n",
      "                \"section\": {\n",
      "                    \"type\": \"keyword\"\n",
      "                },\n",
      "                \"timestamp\": {\n",
      "                    \"type\": \"date\"\n",
      "                }\n",
      "            }\n",
      "        }\n",
      "    }\n",
      "}\n",
      "Settings:\n",
      "{\n",
      "    \"faq_documents_index\": {\n",
      "        \"settings\": {\n",
      "            \"index\": {\n",
      "                \"routing\": {\n",
      "                    \"allocation\": {\n",
      "                        \"include\": {\n",
      "                            \"_tier_preference\": \"data_content\"\n",
      "                        }\n",
      "                    }\n",
      "                },\n",
      "                \"number_of_shards\": \"1\",\n",
      "                \"provided_name\": \"faq_documents_index\",\n",
      "                \"creation_date\": \"1724575174928\",\n",
      "                \"number_of_replicas\": \"0\",\n",
      "                \"uuid\": \"dEbbIuVbQB2HRsa_NmOOgA\",\n",
      "                \"version\": {\n",
      "                    \"created\": \"8040399\"\n",
      "                }\n",
      "            }\n",
      "        }\n",
      "    }\n",
      "}\n",
      "\n",
      "================================================================================\n",
      "\n"
     ]
    }
   ],
   "source": [
    "# List all indexes in the Elasticsearch database\n",
    "all_indexes = db_client.cat.indices(format=\"json\")\n",
    "\n",
    "print(\"All Indexes:\")\n",
    "for index in all_indexes:\n",
    "    # Print basic information about the index\n",
    "    print(f\"Index Name: {index['index']}, Document Count: {index['docs.count']}, Size: {index['store.size']}\")\n",
    "    \n",
    "    # Get and print the mappings for the index\n",
    "    mappings_response = db_client.indices.get_mapping(index=index['index'])\n",
    "    mappings = mappings_response.body if hasattr(mappings_response, 'body') else mappings_response\n",
    "    print(\"Mappings:\")\n",
    "    print(json.dumps(mappings, indent=4))\n",
    "    \n",
    "    # Get and print the settings for the index\n",
    "    settings_response = db_client.indices.get_settings(index=index['index'])\n",
    "    settings = settings_response.body if hasattr(settings_response, 'body') else settings_response\n",
    "    print(\"Settings:\")\n",
    "    print(json.dumps(settings, indent=4))\n",
    "    \n",
    "    print(\"\\n\" + \"=\"*80 + \"\\n\")\n"
   ]
  },
  {
   "cell_type": "code",
   "execution_count": null,
   "metadata": {},
   "outputs": [],
   "source": []
  }
 ],
 "metadata": {
  "kernelspec": {
   "display_name": "Python 3 (ipykernel)",
   "language": "python",
   "name": "python3"
  },
  "language_info": {
   "codemirror_mode": {
    "name": "ipython",
    "version": 3
   },
   "file_extension": ".py",
   "mimetype": "text/x-python",
   "name": "python",
   "nbconvert_exporter": "python",
   "pygments_lexer": "ipython3",
   "version": "3.10.12"
  }
 },
 "nbformat": 4,
 "nbformat_minor": 4
}
